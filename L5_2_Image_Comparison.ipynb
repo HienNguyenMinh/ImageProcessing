{
  "nbformat": 4,
  "nbformat_minor": 0,
  "metadata": {
    "colab": {
      "provenance": [],
      "authorship_tag": "ABX9TyNpAYUEscuL2QqXF7chir0g",
      "include_colab_link": true
    },
    "kernelspec": {
      "name": "python3",
      "display_name": "Python 3"
    },
    "language_info": {
      "name": "python"
    }
  },
  "cells": [
    {
      "cell_type": "markdown",
      "metadata": {
        "id": "view-in-github",
        "colab_type": "text"
      },
      "source": [
        "<a href=\"https://colab.research.google.com/github/HienNguyenMinh/ImageProcessing/blob/main/L5_2_Image_Comparison.ipynb\" target=\"_parent\"><img src=\"https://colab.research.google.com/assets/colab-badge.svg\" alt=\"Open In Colab\"/></a>"
      ]
    },
    {
      "cell_type": "code",
      "source": [
        "!pip uninstall gdown -y && pip install gdown\n",
        "#Create a folder \"Images\" on Colab\n",
        "!rm -rf /content/Images\n",
        "!mkdir Images\n",
        "#Down load Images from google drive link to the Colab folder\n",
        "!gdown --folder https://drive.google.com/drive/folders/1w9QCEQ_ShE2n3BlBqvyNvEZXYmGi6t2s?usp=share_link -O /content/Images"
      ],
      "metadata": {
        "id": "ILmxdui6AWCU"
      },
      "execution_count": null,
      "outputs": []
    },
    {
      "cell_type": "code",
      "execution_count": 18,
      "metadata": {
        "colab": {
          "base_uri": "https://localhost:8080/",
          "height": 512
        },
        "id": "_kgMqu0d6Fot",
        "outputId": "9e3a1174-340e-49c0-a573-399741f3a88d"
      },
      "outputs": [
        {
          "output_type": "display_data",
          "data": {
            "text/plain": [
              "<Figure size 576x720 with 1 Axes>"
            ],
            "image/png": "[encoded data removed]"
          },
          "metadata": {
            "needs_background": "light"
          }
        }
      ],
      "source": [
        "#Exercise Day 3\n",
        "#L5_2 Image Comparison\n",
        "#Student: Nguyen Thi Minh Hien\n",
        "\n",
        "#Import libraries\n",
        "import cv2\n",
        "import numpy as np\n",
        "import matplotlib.pyplot as plt\n",
        "import os\n",
        "\n",
        "#read image\n",
        "maskImg1 = cv2.imread('/content/Images/mask1.png');\n",
        "maskImg2 = cv2.imread('/content/Images/mask2.png');\n",
        "\n",
        "\n",
        "#perform image subtraction and comparison\n",
        "diffImg = np.abs(cv2.subtract(maskImg1, maskImg2));\n",
        "\n",
        "#Create a subplot with rows, columns to show multiple image\n",
        "plt.subplots(figsize=(8, 10));\n",
        "plt.imshow(diffImg);\n",
        "plt.title('Difference Image', fontsize=15);\n",
        "\n",
        "# to specified directory \n",
        "directory = '/content/Images';\n",
        "os.chdir(directory);\n",
        "#Save image\n",
        "cv2.imwrite('Mask_Compasion_diff.png', diffImg);\n"
      ]
    }
  ]
}